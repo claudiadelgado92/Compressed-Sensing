# Fonction pour charger l'image
load_image = function()
{ 
  # Message d'accueil
  Selectionner l’’image a crypter (*.png) (*.mbp)
  #ouverture d'une boite de dialogue ou on prend l'image : attention seul les images de type .... peuvent être traitée
  
  return(image)
}

# Fonction pour donne la taille de l'image
dim_image = function(image)
{ 
  return(dimension_image)
}

# Fonction pour entrer le message a cacher
load_message = function(message)
{ 
  # Message d'accueil
  Le message a cacher ne peut contenir que les caractères suivant :
  #ouverture d'une boite de dialogue ou on ecrit le message 
  
  return(message_cripte)
}


# Fonction qui integre le message dans l'image

load_message = function(image,message)
{ 
  dim_img = dim_image(image)
  message_cripte = load_message(message)
  if(dim_img<length(message_cripte))
  {
    print(paste0("L'image que vous souhaitez utilisé comporte ",," pixels : vous devez donc 
  }
  
}
